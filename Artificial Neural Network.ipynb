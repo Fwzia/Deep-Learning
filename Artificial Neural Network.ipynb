{
 "cells": [
  {
   "cell_type": "code",
   "execution_count": 1,
   "metadata": {},
   "outputs": [],
   "source": [
    "# Importing the libraries\n",
    "import numpy as np\n",
    "import pandas as pd\n",
    "import tensorflow as tf\n"
   ]
  },
  {
   "cell_type": "code",
   "execution_count": 2,
   "metadata": {},
   "outputs": [
    {
     "name": "stdout",
     "output_type": "stream",
     "text": [
      "[[619 'France' 'Female' ... 1 1 101348.88]\n",
      " [608 'Spain' 'Female' ... 0 1 112542.58]\n",
      " [502 'France' 'Female' ... 1 0 113931.57]\n",
      " ...\n",
      " [709 'France' 'Female' ... 0 1 42085.58]\n",
      " [772 'Germany' 'Male' ... 1 0 92888.52]\n",
      " [792 'France' 'Female' ... 1 0 38190.78]]\n",
      "[1 0 1 ... 1 1 0]\n"
     ]
    }
   ],
   "source": [
    "# Importing the dataset\n",
    "dataset = pd.read_csv('C:/Users/moony/OneDrive/Desktop/ML-NAno/P14-Part8-Deep-Learning/Section 35 - Artificial Neural Networks (ANN)/Python/Churn_Modelling.csv')\n",
    "X = dataset.iloc[:, 3:-1].values\n",
    "y = dataset.iloc[:, -1].values\n",
    "print(X)\n",
    "print(y)"
   ]
  },
  {
   "cell_type": "code",
   "execution_count": 3,
   "metadata": {},
   "outputs": [
    {
     "name": "stdout",
     "output_type": "stream",
     "text": [
      "[[619 'France' 0 ... 1 1 101348.88]\n",
      " [608 'Spain' 0 ... 0 1 112542.58]\n",
      " [502 'France' 0 ... 1 0 113931.57]\n",
      " ...\n",
      " [709 'France' 0 ... 0 1 42085.58]\n",
      " [772 'Germany' 1 ... 1 0 92888.52]\n",
      " [792 'France' 0 ... 1 0 38190.78]]\n"
     ]
    }
   ],
   "source": [
    "# Encoding categorical data\n",
    "# Label Encoding the \"Gender\" column\n",
    "from sklearn.preprocessing import LabelEncoder\n",
    "le = LabelEncoder()\n",
    "X[:, 2] = le.fit_transform(X[:, 2])\n",
    "print(X)"
   ]
  },
  {
   "cell_type": "code",
   "execution_count": 4,
   "metadata": {},
   "outputs": [
    {
     "name": "stdout",
     "output_type": "stream",
     "text": [
      "[[1.0 0.0 0.0 ... 1 1 101348.88]\n",
      " [0.0 0.0 1.0 ... 0 1 112542.58]\n",
      " [1.0 0.0 0.0 ... 1 0 113931.57]\n",
      " ...\n",
      " [1.0 0.0 0.0 ... 0 1 42085.58]\n",
      " [0.0 1.0 0.0 ... 1 0 92888.52]\n",
      " [1.0 0.0 0.0 ... 1 0 38190.78]]\n"
     ]
    }
   ],
   "source": [
    "# One Hot Encoding the \"Geography\" column\n",
    "from sklearn.compose import ColumnTransformer\n",
    "from sklearn.preprocessing import OneHotEncoder\n",
    "ct = ColumnTransformer(transformers=[('encoder', OneHotEncoder(), [1])], remainder='passthrough')\n",
    "X = np.array(ct.fit_transform(X))\n",
    "print(X)"
   ]
  },
  {
   "cell_type": "code",
   "execution_count": 5,
   "metadata": {},
   "outputs": [
    {
     "name": "stdout",
     "output_type": "stream",
     "text": [
      "[[ 0.99720391 -0.57873591 -0.57380915 ...  0.64609167  0.97024255\n",
      "   0.02188649]\n",
      " [-1.00280393 -0.57873591  1.74273971 ... -1.54776799  0.97024255\n",
      "   0.21653375]\n",
      " [ 0.99720391 -0.57873591 -0.57380915 ...  0.64609167 -1.03067011\n",
      "   0.2406869 ]\n",
      " ...\n",
      " [ 0.99720391 -0.57873591 -0.57380915 ... -1.54776799  0.97024255\n",
      "  -1.00864308]\n",
      " [-1.00280393  1.72790383 -0.57380915 ...  0.64609167 -1.03067011\n",
      "  -0.12523071]\n",
      " [ 0.99720391 -0.57873591 -0.57380915 ...  0.64609167 -1.03067011\n",
      "  -1.07636976]]\n"
     ]
    }
   ],
   "source": [
    "# Feature Scaling\n",
    "from sklearn.preprocessing import StandardScaler\n",
    "sc = StandardScaler()\n",
    "X = sc.fit_transform(X)\n",
    "print(X)"
   ]
  },
  {
   "cell_type": "code",
   "execution_count": 6,
   "metadata": {},
   "outputs": [],
   "source": [
    "# Splitting the dataset into the Training set and Test set\n",
    "from sklearn.model_selection import train_test_split\n",
    "X_train, X_test, y_train, y_test = train_test_split(X, y, test_size = 0.2, random_state = 0)"
   ]
  },
  {
   "cell_type": "markdown",
   "metadata": {},
   "source": [
    "## Building the ANN"
   ]
  },
  {
   "cell_type": "code",
   "execution_count": 7,
   "metadata": {},
   "outputs": [],
   "source": [
    "# Initializing the ANN\n",
    "from tensorflow import keras\n",
    "ann = tf.keras.models.Sequential()"
   ]
  },
  {
   "cell_type": "code",
   "execution_count": 8,
   "metadata": {},
   "outputs": [
    {
     "name": "stdout",
     "output_type": "stream",
     "text": [
      "WARNING:tensorflow:From C:\\Users\\moony\\Anaconda3\\lib\\site-packages\\tensorflow\\python\\ops\\init_ops.py:1251: calling VarianceScaling.__init__ (from tensorflow.python.ops.init_ops) with dtype is deprecated and will be removed in a future version.\n",
      "Instructions for updating:\n",
      "Call initializer instance with the dtype argument instead of passing it to the constructor\n"
     ]
    }
   ],
   "source": [
    "# Adding the input layer and the first hidden layer\n",
    "ann.add(tf.keras.layers.Dense(units=6, activation='relu'))\n",
    "\n",
    "# Adding the second hidden layer\n",
    "ann.add(tf.keras.layers.Dense(units=6, activation='relu'))\n",
    "\n",
    "# Adding the output layer\n",
    "ann.add(tf.keras.layers.Dense(units=1, activation='sigmoid'))"
   ]
  },
  {
   "cell_type": "code",
   "execution_count": 9,
   "metadata": {},
   "outputs": [],
   "source": [
    "# Compiling the ANN\n",
    "#loss = 'binary_crossentropy' bc the output is binary not categorical\n",
    "ann.compile(optimizer = 'adam', loss = 'binary_crossentropy', metrics = ['accuracy'])"
   ]
  },
  {
   "cell_type": "code",
   "execution_count": 10,
   "metadata": {},
   "outputs": [
    {
     "name": "stdout",
     "output_type": "stream",
     "text": [
      "WARNING:tensorflow:From C:\\Users\\moony\\Anaconda3\\lib\\site-packages\\tensorflow\\python\\ops\\nn_impl.py:180: add_dispatch_support.<locals>.wrapper (from tensorflow.python.ops.array_ops) is deprecated and will be removed in a future version.\n",
      "Instructions for updating:\n",
      "Use tf.where in 2.0, which has the same broadcast rule as np.where\n",
      "Epoch 1/100\n",
      "8000/8000 [==============================] - 0s 47us/sample - loss: 0.5600 - acc: 0.7747\n",
      "Epoch 2/100\n",
      "8000/8000 [==============================] - 0s 30us/sample - loss: 0.4669 - acc: 0.7961\n",
      "Epoch 3/100\n",
      "8000/8000 [==============================] - 0s 30us/sample - loss: 0.4454 - acc: 0.7971\n",
      "Epoch 4/100\n",
      "8000/8000 [==============================] - 0s 30us/sample - loss: 0.4356 - acc: 0.8025\n",
      "Epoch 5/100\n",
      "8000/8000 [==============================] - 0s 29us/sample - loss: 0.4296 - acc: 0.8077\n",
      "Epoch 6/100\n",
      "8000/8000 [==============================] - 0s 30us/sample - loss: 0.4257 - acc: 0.8166\n",
      "Epoch 7/100\n",
      "8000/8000 [==============================] - 0s 30us/sample - loss: 0.4228 - acc: 0.8199\n",
      "Epoch 8/100\n",
      "8000/8000 [==============================] - 0s 30us/sample - loss: 0.4208 - acc: 0.8221\n",
      "Epoch 9/100\n",
      "8000/8000 [==============================] - 0s 30us/sample - loss: 0.4190 - acc: 0.8227\n",
      "Epoch 10/100\n",
      "8000/8000 [==============================] - 0s 34us/sample - loss: 0.4175 - acc: 0.8232\n",
      "Epoch 11/100\n",
      "8000/8000 [==============================] - 0s 32us/sample - loss: 0.4161 - acc: 0.8239\n",
      "Epoch 12/100\n",
      "8000/8000 [==============================] - 0s 33us/sample - loss: 0.4150 - acc: 0.8250\n",
      "Epoch 13/100\n",
      "8000/8000 [==============================] - 0s 33us/sample - loss: 0.4139 - acc: 0.8260\n",
      "Epoch 14/100\n",
      "8000/8000 [==============================] - 0s 30us/sample - loss: 0.4129 - acc: 0.8276\n",
      "Epoch 15/100\n",
      "8000/8000 [==============================] - 0s 32us/sample - loss: 0.4122 - acc: 0.8273\n",
      "Epoch 16/100\n",
      "8000/8000 [==============================] - 0s 31us/sample - loss: 0.4111 - acc: 0.8285\n",
      "Epoch 17/100\n",
      "8000/8000 [==============================] - 0s 35us/sample - loss: 0.4101 - acc: 0.8294\n",
      "Epoch 18/100\n",
      "8000/8000 [==============================] - 0s 35us/sample - loss: 0.4090 - acc: 0.8290\n",
      "Epoch 19/100\n",
      "8000/8000 [==============================] - 0s 31us/sample - loss: 0.4072 - acc: 0.8317\n",
      "Epoch 20/100\n",
      "8000/8000 [==============================] - 0s 30us/sample - loss: 0.4047 - acc: 0.8330\n",
      "Epoch 21/100\n",
      "8000/8000 [==============================] - 0s 31us/sample - loss: 0.4020 - acc: 0.8353\n",
      "Epoch 22/100\n",
      "8000/8000 [==============================] - 0s 32us/sample - loss: 0.3988 - acc: 0.8360\n",
      "Epoch 23/100\n",
      "8000/8000 [==============================] - 0s 34us/sample - loss: 0.3949 - acc: 0.8390\n",
      "Epoch 24/100\n",
      "8000/8000 [==============================] - 0s 32us/sample - loss: 0.3904 - acc: 0.8406\n",
      "Epoch 25/100\n",
      "8000/8000 [==============================] - 0s 33us/sample - loss: 0.3856 - acc: 0.8430\n",
      "Epoch 26/100\n",
      "8000/8000 [==============================] - 0s 31us/sample - loss: 0.3808 - acc: 0.8472\n",
      "Epoch 27/100\n",
      "8000/8000 [==============================] - 0s 41us/sample - loss: 0.3756 - acc: 0.8503\n",
      "Epoch 28/100\n",
      "8000/8000 [==============================] - 0s 42us/sample - loss: 0.3700 - acc: 0.85160s - loss: 0.3680 - acc: 0\n",
      "Epoch 29/100\n",
      "8000/8000 [==============================] - 0s 42us/sample - loss: 0.3648 - acc: 0.8531\n",
      "Epoch 30/100\n",
      "8000/8000 [==============================] - 0s 41us/sample - loss: 0.3599 - acc: 0.8545\n",
      "Epoch 31/100\n",
      "8000/8000 [==============================] - 0s 33us/sample - loss: 0.3555 - acc: 0.8560\n",
      "Epoch 32/100\n",
      "8000/8000 [==============================] - 0s 33us/sample - loss: 0.3524 - acc: 0.8572\n",
      "Epoch 33/100\n",
      "8000/8000 [==============================] - 0s 31us/sample - loss: 0.3500 - acc: 0.8574\n",
      "Epoch 34/100\n",
      "8000/8000 [==============================] - 0s 31us/sample - loss: 0.3480 - acc: 0.8575\n",
      "Epoch 35/100\n",
      "8000/8000 [==============================] - 0s 31us/sample - loss: 0.3462 - acc: 0.8583\n",
      "Epoch 36/100\n",
      "8000/8000 [==============================] - 0s 33us/sample - loss: 0.3449 - acc: 0.8585\n",
      "Epoch 37/100\n",
      "8000/8000 [==============================] - 0s 34us/sample - loss: 0.3439 - acc: 0.8584\n",
      "Epoch 38/100\n",
      "8000/8000 [==============================] - 0s 34us/sample - loss: 0.3425 - acc: 0.8602\n",
      "Epoch 39/100\n",
      "8000/8000 [==============================] - 0s 33us/sample - loss: 0.3418 - acc: 0.8594\n",
      "Epoch 40/100\n",
      "8000/8000 [==============================] - 0s 33us/sample - loss: 0.3411 - acc: 0.8599\n",
      "Epoch 41/100\n",
      "8000/8000 [==============================] - 0s 31us/sample - loss: 0.3408 - acc: 0.8589\n",
      "Epoch 42/100\n",
      "8000/8000 [==============================] - 0s 30us/sample - loss: 0.3400 - acc: 0.8597\n",
      "Epoch 43/100\n",
      "8000/8000 [==============================] - 0s 34us/sample - loss: 0.3399 - acc: 0.8602\n",
      "Epoch 44/100\n",
      "8000/8000 [==============================] - 0s 45us/sample - loss: 0.3392 - acc: 0.8608\n",
      "Epoch 45/100\n",
      "8000/8000 [==============================] - 0s 41us/sample - loss: 0.3387 - acc: 0.8616\n",
      "Epoch 46/100\n",
      "8000/8000 [==============================] - 0s 33us/sample - loss: 0.3386 - acc: 0.8618\n",
      "Epoch 47/100\n",
      "8000/8000 [==============================] - 0s 34us/sample - loss: 0.3384 - acc: 0.8601\n",
      "Epoch 48/100\n",
      "8000/8000 [==============================] - 0s 38us/sample - loss: 0.3378 - acc: 0.8629\n",
      "Epoch 49/100\n",
      "8000/8000 [==============================] - 0s 36us/sample - loss: 0.3378 - acc: 0.8612\n",
      "Epoch 50/100\n",
      "8000/8000 [==============================] - 0s 38us/sample - loss: 0.3373 - acc: 0.8622\n",
      "Epoch 51/100\n",
      "8000/8000 [==============================] - 0s 35us/sample - loss: 0.3375 - acc: 0.8622\n",
      "Epoch 52/100\n",
      "8000/8000 [==============================] - 0s 36us/sample - loss: 0.3372 - acc: 0.8614\n",
      "Epoch 53/100\n",
      "8000/8000 [==============================] - 0s 48us/sample - loss: 0.3370 - acc: 0.8614\n",
      "Epoch 54/100\n",
      "8000/8000 [==============================] - 0s 30us/sample - loss: 0.3367 - acc: 0.8612\n",
      "Epoch 55/100\n",
      "8000/8000 [==============================] - 0s 32us/sample - loss: 0.3368 - acc: 0.8618\n",
      "Epoch 56/100\n",
      "8000/8000 [==============================] - 0s 36us/sample - loss: 0.3366 - acc: 0.8633\n",
      "Epoch 57/100\n",
      "8000/8000 [==============================] - 0s 36us/sample - loss: 0.3366 - acc: 0.8615\n",
      "Epoch 58/100\n",
      "8000/8000 [==============================] - 0s 43us/sample - loss: 0.3365 - acc: 0.8626\n",
      "Epoch 59/100\n",
      "8000/8000 [==============================] - 0s 44us/sample - loss: 0.3365 - acc: 0.8627\n",
      "Epoch 60/100\n",
      "8000/8000 [==============================] - 0s 43us/sample - loss: 0.3362 - acc: 0.8627\n",
      "Epoch 61/100\n",
      "8000/8000 [==============================] - 0s 38us/sample - loss: 0.3358 - acc: 0.8630\n",
      "Epoch 62/100\n",
      "8000/8000 [==============================] - 0s 47us/sample - loss: 0.3360 - acc: 0.8605\n",
      "Epoch 63/100\n",
      "8000/8000 [==============================] - 0s 49us/sample - loss: 0.3358 - acc: 0.8625\n",
      "Epoch 64/100\n",
      "8000/8000 [==============================] - 0s 62us/sample - loss: 0.3355 - acc: 0.8629\n",
      "Epoch 65/100\n",
      "8000/8000 [==============================] - 0s 45us/sample - loss: 0.3358 - acc: 0.8636\n",
      "Epoch 66/100\n",
      "8000/8000 [==============================] - 0s 50us/sample - loss: 0.3359 - acc: 0.8614\n",
      "Epoch 67/100\n",
      "8000/8000 [==============================] - 0s 48us/sample - loss: 0.3357 - acc: 0.8622\n",
      "Epoch 68/100\n",
      "8000/8000 [==============================] - 0s 54us/sample - loss: 0.3356 - acc: 0.8637\n",
      "Epoch 69/100\n",
      "8000/8000 [==============================] - 0s 46us/sample - loss: 0.3355 - acc: 0.8620\n",
      "Epoch 70/100\n",
      "8000/8000 [==============================] - 0s 49us/sample - loss: 0.3355 - acc: 0.8616\n",
      "Epoch 71/100\n",
      "8000/8000 [==============================] - 0s 46us/sample - loss: 0.3355 - acc: 0.8639\n",
      "Epoch 72/100\n",
      "8000/8000 [==============================] - 0s 47us/sample - loss: 0.3354 - acc: 0.8635\n",
      "Epoch 73/100\n",
      "8000/8000 [==============================] - 0s 43us/sample - loss: 0.3357 - acc: 0.8639\n",
      "Epoch 74/100\n",
      "8000/8000 [==============================] - 0s 41us/sample - loss: 0.3352 - acc: 0.8620\n",
      "Epoch 75/100\n",
      "8000/8000 [==============================] - 0s 42us/sample - loss: 0.3352 - acc: 0.8622\n",
      "Epoch 76/100\n",
      "8000/8000 [==============================] - 0s 37us/sample - loss: 0.3348 - acc: 0.8630\n",
      "Epoch 77/100\n"
     ]
    },
    {
     "name": "stdout",
     "output_type": "stream",
     "text": [
      "8000/8000 [==============================] - 0s 42us/sample - loss: 0.3350 - acc: 0.8631\n",
      "Epoch 78/100\n",
      "8000/8000 [==============================] - 1s 72us/sample - loss: 0.3349 - acc: 0.8631\n",
      "Epoch 79/100\n",
      "8000/8000 [==============================] - 0s 56us/sample - loss: 0.3347 - acc: 0.8634\n",
      "Epoch 80/100\n",
      "8000/8000 [==============================] - 0s 54us/sample - loss: 0.3352 - acc: 0.8629\n",
      "Epoch 81/100\n",
      "8000/8000 [==============================] - 0s 52us/sample - loss: 0.3349 - acc: 0.8618\n",
      "Epoch 82/100\n",
      "8000/8000 [==============================] - 0s 50us/sample - loss: 0.3345 - acc: 0.8629\n",
      "Epoch 83/100\n",
      "8000/8000 [==============================] - 0s 49us/sample - loss: 0.3349 - acc: 0.8639\n",
      "Epoch 84/100\n",
      "8000/8000 [==============================] - 0s 44us/sample - loss: 0.3345 - acc: 0.8630\n",
      "Epoch 85/100\n",
      "8000/8000 [==============================] - 0s 53us/sample - loss: 0.3345 - acc: 0.8640\n",
      "Epoch 86/100\n",
      "8000/8000 [==============================] - 0s 56us/sample - loss: 0.3344 - acc: 0.8619\n",
      "Epoch 87/100\n",
      "8000/8000 [==============================] - 0s 49us/sample - loss: 0.3344 - acc: 0.8634\n",
      "Epoch 88/100\n",
      "8000/8000 [==============================] - 0s 49us/sample - loss: 0.3346 - acc: 0.8620\n",
      "Epoch 89/100\n",
      "8000/8000 [==============================] - 0s 34us/sample - loss: 0.3346 - acc: 0.8625\n",
      "Epoch 90/100\n",
      "8000/8000 [==============================] - 0s 38us/sample - loss: 0.3340 - acc: 0.8626\n",
      "Epoch 91/100\n",
      "8000/8000 [==============================] - 0s 37us/sample - loss: 0.3339 - acc: 0.8625\n",
      "Epoch 92/100\n",
      "8000/8000 [==============================] - 0s 34us/sample - loss: 0.3344 - acc: 0.8629\n",
      "Epoch 93/100\n",
      "8000/8000 [==============================] - 0s 31us/sample - loss: 0.3341 - acc: 0.8631\n",
      "Epoch 94/100\n",
      "8000/8000 [==============================] - 0s 33us/sample - loss: 0.3339 - acc: 0.8641\n",
      "Epoch 95/100\n",
      "8000/8000 [==============================] - 0s 28us/sample - loss: 0.3344 - acc: 0.8626\n",
      "Epoch 96/100\n",
      "8000/8000 [==============================] - 0s 30us/sample - loss: 0.3344 - acc: 0.8637\n",
      "Epoch 97/100\n",
      "8000/8000 [==============================] - 0s 30us/sample - loss: 0.3340 - acc: 0.8629\n",
      "Epoch 98/100\n",
      "8000/8000 [==============================] - 0s 29us/sample - loss: 0.3339 - acc: 0.8627\n",
      "Epoch 99/100\n",
      "8000/8000 [==============================] - 0s 29us/sample - loss: 0.3337 - acc: 0.8635\n",
      "Epoch 100/100\n",
      "8000/8000 [==============================] - 0s 29us/sample - loss: 0.3338 - acc: 0.8618\n"
     ]
    },
    {
     "data": {
      "text/plain": [
       "<tensorflow.python.keras.callbacks.History at 0x22feb6d3a20>"
      ]
     },
     "execution_count": 10,
     "metadata": {},
     "output_type": "execute_result"
    }
   ],
   "source": [
    "# Training the ANN on the Training set\n",
    "#Change batch_size and epochs randomly until achiving best accuracy\n",
    "ann.fit(X_train, y_train, batch_size = 32, epochs = 100)"
   ]
  },
  {
   "cell_type": "code",
   "execution_count": 11,
   "metadata": {},
   "outputs": [
    {
     "name": "stdout",
     "output_type": "stream",
     "text": [
      "[[0 0]\n",
      " [0 1]\n",
      " [0 0]\n",
      " ...\n",
      " [0 0]\n",
      " [0 0]\n",
      " [0 0]]\n"
     ]
    }
   ],
   "source": [
    "# Predicting the Test set results\n",
    "y_pred = ann.predict(X_test)\n",
    "y_pred = (y_pred > 0.5)\n",
    "print(np.concatenate((y_pred.reshape(len(y_pred),1), y_test.reshape(len(y_test),1)),1))"
   ]
  },
  {
   "cell_type": "code",
   "execution_count": 12,
   "metadata": {},
   "outputs": [
    {
     "name": "stdout",
     "output_type": "stream",
     "text": [
      "[[1507   88]\n",
      " [ 202  203]]\n"
     ]
    }
   ],
   "source": [
    "# Making the Confusion Matrix\n",
    "from sklearn.metrics import confusion_matrix\n",
    "cm = confusion_matrix(y_test, y_pred)\n",
    "print(cm)"
   ]
  },
  {
   "cell_type": "code",
   "execution_count": null,
   "metadata": {},
   "outputs": [],
   "source": []
  },
  {
   "cell_type": "code",
   "execution_count": null,
   "metadata": {},
   "outputs": [],
   "source": []
  },
  {
   "cell_type": "code",
   "execution_count": null,
   "metadata": {},
   "outputs": [],
   "source": []
  }
 ],
 "metadata": {
  "kernelspec": {
   "display_name": "Python 3",
   "language": "python",
   "name": "python3"
  },
  "language_info": {
   "codemirror_mode": {
    "name": "ipython",
    "version": 3
   },
   "file_extension": ".py",
   "mimetype": "text/x-python",
   "name": "python",
   "nbconvert_exporter": "python",
   "pygments_lexer": "ipython3",
   "version": "3.7.3"
  }
 },
 "nbformat": 4,
 "nbformat_minor": 2
}
